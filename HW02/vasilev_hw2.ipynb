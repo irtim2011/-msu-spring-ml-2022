{
 "cells": [
  {
   "cell_type": "markdown",
   "metadata": {},
   "source": [
    "# Алгоритмы интеллектуальной обработки больших объемов данных\n",
    "## Домашнее задание №2: Линейные модели\n"
   ]
  },
  {
   "cell_type": "markdown",
   "metadata": {},
   "source": [
    "**Общая информация**\n",
    "\n",
    "**Срок сдачи:** 25 апреля 18:00 Сдача **очная** на онлайн занятии.\n",
    "\n",
    "\n",
    "Используйте данный Ipython Notebook при оформлении домашнего задания.\n",
    "\n",
    "Присылать ДЗ необходимо в виде ссылки на свой github репозиторий на почту ml1.sphere@mail.ru с указанием темы в следующем формате:\n",
    "\n",
    "[ML0422, Задание 2] Фамилия Имя.\n",
    "\n",
    "\n",
    "\n",
    "**Штрафные баллы:**\n",
    "\n",
    "1. Невыполнение PEP8 -1 балл\n",
    "2. Отсутствие фамилии в имени скрипта (скрипт должен называться по аналогии со stroykova_hw2.ipynb) -1 балл\n",
    "3. Все строчки должны быть выполнены. Нужно, чтобы output команды можно было увидеть уже в git'е. В противном случае -1 балл\n",
    "4. При оформлении ДЗ нужно пользоваться данным файлом в качестве шаблона. Не нужно удалять и видоизменять написанный код и текст, если явно не указана такая возможность. В противном случае -1 балл\n",
    "<hr\\>"
   ]
  },
  {
   "cell_type": "code",
   "execution_count": 1,
   "metadata": {
    "tags": []
   },
   "outputs": [],
   "source": [
    "import pandas as pd\n",
    "import numpy as np\n",
    "import matplotlib.pyplot as plt\n",
    "from numpy import random\n",
    "\n",
    "%matplotlib inline\n",
    "\n",
    "plt.style.use('ggplot')\n",
    "plt.rcParams['figure.figsize'] = (12,5)"
   ]
  },
  {
   "cell_type": "markdown",
   "metadata": {},
   "source": [
    "Здравствуйте, уважаемые студенты! \n",
    "\n",
    "В этом задании мы будем реализовать линейные модели. Необходимо реализовать линейную и логистическую регрессии с L2 регуляризацией"
   ]
  },
  {
   "cell_type": "markdown",
   "metadata": {},
   "source": [
    "# Теоретическое введение\n",
    "\n"
   ]
  },
  {
   "cell_type": "markdown",
   "metadata": {},
   "source": [
    "Линейная регрессия решает задачу регрессии и оптимизирует функцию потерь MSE \n",
    "\n",
    "$$L(w) =  \\frac{1}{N}\\left[\\sum_i (y_i - a_i) ^ 2 \\right], $$ где $y_i$ $-$ целевая функция,  $a_i = a(x_i) =  \\langle\\,x_i,w\\rangle ,$ $-$ предсказание алгоритма на объекте $x_i$, $w$ $-$ вектор весов (размерности $D$), $x_i$ $-$ вектор признаков (такой же размерности $D$).\n",
    "\n",
    "Не забываем, что здесь и далее  мы считаем, что в $x_i$ есть тождественный вектор единиц, ему соответствует вес $w_0$.\n"
   ]
  },
  {
   "cell_type": "markdown",
   "metadata": {},
   "source": [
    "Логистическая регрессия является линейным классификатором, который оптимизирует так называемый функционал log loss:"
   ]
  },
  {
   "cell_type": "markdown",
   "metadata": {},
   "source": [
    "$$L(w) = - \\frac{1}{N}\\left[\\sum_i y_i \\log a_i + ( 1 - y_i) \\log (1 - a_i) \\right],$$\n",
    "где  $y_i  \\in \\{0,1\\}$ $-$ метка класса, $a_i$ $-$ предсказание алгоритма на объекте $x_i$. Модель пытается предсказать апостериорую вероятность объекта принадлежать к классу \"1\":\n",
    "$$ p(y_i = 1 | x_i) = a(x_i) =  \\sigma( \\langle\\,x_i,w\\rangle ),$$\n",
    "$w$ $-$ вектор весов (размерности $D$), $x_i$ $-$ вектор признаков (такой же размерности $D$).\n",
    "\n",
    "Функция $\\sigma(x)$ $-$ нелинейная функция, пероводящее скалярное произведение объекта на веса в число $\\in (0,1)$ (мы же моделируем вероятность все-таки!)\n",
    "\n",
    "$$\\sigma(x) = \\frac{1}{1 + \\exp(-x)}$$\n",
    "\n",
    "Если внимательно посмотреть на функцию потерь, то можно заметить, что в зависимости от правильного ответа алгоритм штрафуется или функцией $-\\log a_i$, или функцией $-\\log (1 - a_i)$.\n",
    "\n"
   ]
  },
  {
   "cell_type": "markdown",
   "metadata": {},
   "source": [
    "Часто для решения проблем, которые так или иначе связаны с проблемой переобучения, в функционал качества добавляют слагаемое, которое называют ***регуляризацией***. Итоговый функционал для линейной регрессии тогда принимает вид:\n",
    "\n",
    "$$L(w) =  \\frac{1}{N}\\left[\\sum_i (y_i - a_i) ^ 2 \\right] + \\frac{1}{C}R(w) $$\n",
    "\n",
    "Для логистической: \n",
    "$$L(w) = - \\frac{1}{N}\\left[\\sum_i y_i \\log a_i + ( 1 - y_i) \\log (1 - a_i) \\right] +  \\frac{1}{C}R(w)$$\n",
    "\n",
    "Самое понятие регуляризации введено основателем ВМК академиком Тихоновым https://ru.wikipedia.org/wiki/Метод_регуляризации_Тихонова\n",
    "\n",
    "Идейно методика регуляризации заключается в следующем $-$ мы рассматриваем некорректно поставленную задачу (что это такое можно найти в интернете), для того чтобы сузить набор различных вариантов (лучшие из которых будут являться переобучением ) мы вводим дополнительные ограничения на множество искомых решений. На лекции Вы уже рассмотрели два варианта регуляризации.\n",
    "\n",
    "$L1$ регуляризация:\n",
    "$$R(w) = \\sum_{j=1}^{D}|w_j|$$\n",
    "$L2$ регуляризация:\n",
    "$$R(w) =  \\sum_{j=1}^{D}w_j^2$$\n",
    "\n",
    "С их помощью мы ограничиваем модель в  возможности выбора каких угодно весов минимизирующих наш лосс, модель уже не сможет подстроиться под данные как ей угодно. \n",
    "\n",
    "Вам нужно добавить соотвествущую Вашему варианту $L2$ регуляризацию.\n",
    "\n",
    "И так, мы поняли, какую функцию ошибки будем минимизировать, разобрались, как получить предсказания по объекту и обученным весам. Осталось разобраться, как получить оптимальные веса. Для этого нужно выбрать какой-то метод оптимизации.\n",
    "\n"
   ]
  },
  {
   "cell_type": "markdown",
   "metadata": {},
   "source": [
    "Градиентный спуск является самым популярным алгоритмом обучения линейных моделей. В этом задании Вам предложат реализовать стохастический градиентный спуск или  мини-батч градиентный спуск (мини-батч на русский язык довольно сложно перевести, многие переводят это как \"пакетный\", но мне не кажется этот перевод удачным). Далее нам потребуется определение **эпохи**.\n",
    "Эпохой в SGD и MB-GD называется один проход по **всем** объектам в обучающей выборки.\n",
    "* В SGD градиент расчитывается по одному случайному объекту. Сам алгоритм выглядит примерно так:\n",
    "        1) Перемешать выборку\n",
    "        2) Посчитать градиент функции потерь на одном объекте (далее один объект тоже будем называть батчем)\n",
    "        3) Сделать шаг спуска\n",
    "        4) Повторять 2) и 3) пока не пройдет максимальное число эпох.\n",
    "* В Mini Batch SGD - по подвыборке объектов. Сам алгоритм выглядит примерно так::\n",
    "        1) Перемешать выборку, выбрать размер мини-батча (от 1 до размера выборки)\n",
    "        2) Почитать градиент функции потерь по мини-батчу (не забыть поделить на  число объектов в мини-батче)\n",
    "        3) Сделать шаг спуска\n",
    "        4) Повторять 2) и 3) пока не пройдет максимальное число эпох.\n",
    "* Для отладки алгоритма реализуйте возможность  вывода средней ошибки на обучении модели по объектам (мини-батчам). После шага градиентного спуска посчитайте значение ошибки на объекте (или мини-батче), а затем усредните, например, по ста шагам. Если обучение проходит корректно, то мы должны увидеть, что каждые 100 шагов функция потерь уменьшается. \n",
    "* Правило останова - максимальное количество эпох\n",
    "    \n"
   ]
  },
  {
   "cell_type": "markdown",
   "metadata": {},
   "source": [
    "# Теоретические вопросы (2 балла)\n",
    "В этой части Вам будут предложены теоретичские вопросы и задачи по теме. Вы, конечно, можете списать их у своего товарища или найти решение в интернете, но учтите, что они обязательно войдут в теоретический коллоквиум. Лучше разобраться в теме сейчас и успешно ответить на коллоквиуме, чем списать, не разобравшись в материале, и быть терзаемым совестью. \n",
    "\n",
    "\n",
    "Формулы надо оформлять в формате **LaTeX**."
   ]
  },
  {
   "cell_type": "markdown",
   "metadata": {},
   "source": [
    "Задача 1. Градиент для линейной регрессии.\n",
    "* Выпишите формулу обновления весов для линейной регрессии с L2 регуляризацией для мини-батч градиентого спуска размера $n$:\n",
    "\n",
    "$$ w_{new} = w_{old} - ... $$\n",
    "\n",
    " Отнеситесь к этому пункту максимально серьезно, это Вам нужно будет реализовать в задании.\n",
    " \n",
    "Проанализруйте итоговую формулу градиента - как  интуитивно можно  описать, чему равен градиент?"
   ]
  },
  {
   "cell_type": "markdown",
   "metadata": {},
   "source": [
    "***Ваше решение здесь***\n",
    "\n",
    "$$L(w) =  \\frac{1}{N}\\left[\\sum_i (y_i - a_i) ^ 2 \\right] + \\frac{1}{C}R(w) $$\n",
    "\n",
    "Делаем итерацию градиентного спуска:\n",
    "$$w_{new} = w_{old} - \\frac{\\alpha}{c} gradR - grad\\left(\\frac{1}{N}\\left[\\sum_i (y_i - a_i) ^ 2 \\right]\\right) $$\n",
    "\n",
    "$$w_{new,j} = w_{old,j} - 2\\frac{\\alpha}{c}w_j -(\\frac{1}{n}\\sum_{i=1}^n 2(y_i-<x_i,w>)x_i^j) $$\n",
    "\n",
    "\n",
    "$$w_{new} = w_{old} - 2\\frac{\\alpha}{c}w +\\frac{2}{n}\\alpha X^T(y-X\\cdot w)$$\n",
    "\n",
    "Ответ: $w_{new} = w_{old} - 2\\frac{\\alpha}{c}w_{old} +\\frac{2}{n}\\alpha X^T(y-X\\cdot w_{old})$\n",
    "\n",
    "$ grad(L(w)) =  \\frac{2}{c}w - \\frac{2}{n} X^T(y-X\\cdot w)$"
   ]
  },
  {
   "cell_type": "markdown",
   "metadata": {},
   "source": [
    "Задача 2. Градиент для логистической регрессии.\n",
    "* Выпишите формулу обновления весов для логистической регрессии с L2 регуляризацией  для мини-батч градиентого спуска размера $n$:\n",
    "\n",
    "$$ w_{new} = w_{old} - ... $$\n",
    "\n",
    " Отнеситесь к этому пункту максимально серьезно, это Вам нужно будет реализовать в задании.\n",
    " \n",
    "Проанализруйте итоговую формулу градиента - как  интуитивно можно  описать, чему равен градиент? Как соотносится этот градиент с градиентом, возникающий в задаче линейной регрессии?\n",
    "\n",
    "Подсказка: Вам градиент, которой получается если “в лоб” продифференцировать,  надо немного преобразовать.\n",
    "Надо подставить, что $1 - \\sigma(w,x) $ это  $1 - a(x_i)$, а  $-\\sigma(w,x)$ это $0 - a(x_i)$.  Тогда получится свести к одной красивой формуле с линейной регрессией, которую программировать будет намного проще."
   ]
  },
  {
   "cell_type": "markdown",
   "metadata": {},
   "source": [
    "***Ваше решение здесь***\n",
    "Для логистической: \n",
    "$$L(w) = - \\frac{1}{n}\\left[\\sum_i y_i \\log a_i + ( 1 - y_i) \\log (1 - a_i) \\right] +  \\frac{1}{C}R(w)$$\n",
    "\n",
    " $$grad\\left(\\frac{1}{C}R(w)\\right) = 2\\frac{\\alpha}{c}w \\text{-из прошлой задачи}$$\n",
    " \n",
    " Делаем итерацию градиентного спуска:\n",
    "\n",
    "$$w_{new} = w_{old} -  2\\frac{\\alpha}{c}w  -grad\\left(- \\frac{1}{n}\\left[\\sum_i y_i \\log a_i + ( 1 - y_i) \\log (1 - a_i)\\right) \\right]$$\n",
    "\n",
    "Обозначим величину под суммой за А:\n",
    "\n",
    "Тогда \n",
    "$$grad(A) =  grad\\left(y_i log(a_i) + (1 - y_i)log(1 - a_i)\\right)$$\n",
    "\n",
    "Рассмотрим j-ю компоненту вектора градиента:\n",
    "\n",
    "$$(...)'_j = \\left(y_i log\\left(\\frac{1}{1 + e^{-<w,x_i>}}\\right) + (1 - y_i)log\\left(\\frac{1}{1 + e^{<w,x_i}}\\right)\\right)'_j$$\n",
    "\n",
    "По свойствам логарифма:\n",
    "\n",
    "\n",
    "$$(...)'_j = \\left(-y_i log\\left(1 + e^{-<w,x_i>}\\right) - (1 - y_i)log\\left(1 + e^{<w,x_i}\\right)\\right)'_j$$\n",
    "\n",
    "Берем производную:\n",
    "\n",
    "$$(...)'_j = \\left(-y_i log\\left(1 + e^{-<w,x_i>}\\right) - (1 - y_i)log\\left(1 + e^{<w,x_i}\\right)\\right)'_j$$\n",
    "\n",
    "$$(...)'_j = -y_i \\frac{1}{1 + e^{-<w,x_i>}}(-e^{-<w,x_i>}) x_i^j - (1 - y_i)\\frac{e^{<w,x_i}}{1 + e^{<w,x_i>}}x_i^j$$\n",
    "\n",
    "Пользуемся свойством сигмоиды: $\\sigma(x) + \\sigma(-x) = 1$\n",
    "\n",
    "$$(...)'_j = \\frac{y_ix_i^je^{-<w,x_i>}}{1 + e^{-<w,x_i>} } - (1 - y_i)x_i^j \\left(1 - \\frac{1}{1 +  e^{-<w,x_i>}}\\right)$$\n",
    "\n",
    "Пользуемся $\\left(1 - \\frac{1}{1 +  e^{-<w,x_i>}}\\right) = \\frac{e^{-<w,x_i>}}{1 + e^{-<w,x_i>}}$ и приводим дроби к одному\n",
    "знаменателю:\n",
    "\n",
    "$$(...)'_j = \\frac{y_ix_i^je^{-<w,x_i>} - (1-y_i)x_i^j}{1 + e^{-<w,x_i>} }$$\n",
    "\n",
    "Вспоминаем что  в исходном выражении перед этим еще стоит $\\frac{1}{n}$ и $\\sum$:\n",
    "\n",
    "$$\\frac{1}{n} \\sum_i A = \\frac{1}{n} \\sum_i^n \\frac{y_ix_i^je^{-<w,x_i>} - (1-y_i)x_i^j}{1 + e^{-<w,x_i>} } = \\frac{1}{n} \\sum_i^n\n",
    "\\frac{y_ix_i^j(1+e^{-<w,x_i>}) - x_i^j}{1 + e^{-<w,x_i>}} = \\frac{1}{n} \\sum_i^n y_ix_i^j -x_i^j \\sigma(-<w,x_i>)= \\frac{1}{n} X^T(y - \\sigma(X \\cdot w))$$\n",
    "\n",
    "$$w_{new} = w_{old} - grad\\left(\\frac{1}{C}R(w)\\right) + \\frac{1}{n} \\sum_i A = \\frac{1}{n}$$\n",
    "\n",
    "\n",
    "\n",
    "\n",
    "\n",
    "Ответ:\n",
    "\n",
    "$w_{new} = w_{old} - 2\\frac{\\alpha}{c}w_{old} + \\frac{1}{n} X^T(y - \\sigma(X \\cdot w_{old}))$\n",
    "\n",
    "Разница с ответом в предыдущей задаче только в коэффициенте перед вторым слагаемым(исчезла двойка) и теперь вместо выражения $X \\cdot w$\n",
    "берется его сигмоида.\n",
    "\n",
    "$ grad(L(w)) =  \\frac{2}{c}w - \\frac{1}{n} X^T(y-\\sigma(X\\cdot w))$"
   ]
  },
  {
   "cell_type": "markdown",
   "metadata": {},
   "source": [
    "Задача 3. Точное решение линейной регрессии\n",
    "\n",
    "На лекции было показано, что точное решение линейной регрессии имеет вид $w = (X^TX)^{-1}X^TY $. \n",
    "* Покажите, что это действительно является точкой минимума в случае, если матрица X имеет строк не меньше, чем столбцов и имеет полный ранг. Подсказка: посчитайте Гессиан и покажите, что в этом случае он положительно определен. \n",
    "* Выпишите точное решение для модели с $L2$ регуляризацией. Как L2 регуляризация помогает с точным решением где матрица X имеет линейно зависимые признаки?\n",
    "\n",
    "1)\n",
    "$$L(w) = \\frac{1}{N} \\sum_i (y_i - a_i)^2$$\n",
    "\n",
    "Вычисляем Гессиан:\n",
    "\n",
    "$$\\frac{\\partial L}{\\partial w_k} = -\\frac{1}{N}\\sum_i 2(y_i - <w,x_i>)x_i^k$$\n",
    "\n",
    "$$\\frac{\\partial^2 L}{\\partial w_k \\partial w_l} = -\\frac{2}{N}\\sum_i(-x_i^k x_i^l) = \\frac{2}{N}\\sum_i x_i^k x_i^l = \\frac{2}{N}X^TX$$\n",
    "\n",
    "$\\frac{2}{N}$ - можно отбросить, тк не влияет на положительную определенность матрицы.\n",
    "\n",
    "Рассмотрим соответсвующую квадратичную форму для всех не нулевых z:\n",
    "\n",
    "В силу того что по условию X невырожденная получаем:\n",
    "\n",
    "$$z^TX^TXz = (Xz)^T(Xz) = ||Xz||^2 > 0 $$\n",
    "\n",
    "Следовательно Гессиан положительно определен и $w = (X^TX)^{-1}X^TY $ действительно является точкой минимума ч.т.д.\n",
    "\n",
    "2)Делаем выкладки по анологии с лекцией и учитываем регулязацию:\n",
    "$$\\nabla_w Q(w) = \\frac{1}{N}\\left((X^TX + X^TX)w - 2X^Ty \\right) - 2\\frac{w}{C} = 0$$\n",
    "\n",
    "$$(\\frac{2X^TX}{N} - \\frac{2}{C})w = \\frac{2X^Ty}{N}$$\n",
    "\n",
    "$$w = (\\frac{X^TX}{N} - \\frac{1}{C})^{-1}\\frac{X^Ty}{N} = \\frac{1}{N^2}(X^TX - \\frac{N}{C})^{-1}X^Ty $$\n",
    "\n",
    "Ответ: $w =\\frac{1}{N^2}\\left(X^TX - \\frac{N}{C}\\right)^{-1}X^Ty$"
   ]
  },
  {
   "cell_type": "markdown",
   "metadata": {},
   "source": [
    "***Ваше решение здесь***"
   ]
  },
  {
   "cell_type": "markdown",
   "metadata": {},
   "source": [
    "Задача 4.  Предсказываем вероятности.\n",
    "\n",
    "Когда говорят о логистической регрессии, произносят фразу, что она \"предсказывает вероятности положительного класса\". Давайте разберемся, что же за этим стоит. Посчитаем математическое ожидание функции потерь и проверим, что предсказание алгоритма, оптимизирующее это мат. ожидание, будет являться вероятностью положительного класса. \n",
    "\n",
    "И так, функция потерь на объекте $x_i$, который имеет метку $y_i \\in \\{0,1\\}$  для предсказания $a(x_i)$ равна:\n",
    "$$L(y_i, b) =-[y_i == 1] \\log a(x_i)  - [y_i == 0] \\log(1 - a(x_i)) $$\n",
    "\n",
    "Где $[]$ означает индикатор $-$ он равен единице, если значение внутри него истинно, иначе он равен нулю. Тогда мат. ожидание при условии конкретного $x_i$  по определение мат. ожидания дискретной случайной величины:\n",
    "$$E(L | x_i) = -p(y_i = 1 |x_i ) \\log a(x_i)  - p(y_i = 0 | x_i) \\log( 1 - a(x_i))$$\n",
    "* Докажите, что значение $a(x_i)$, минимизирующее данное мат. ожидание, в точности равно $p(y_i = 1 |x_i)$, то есть равно вероятности положительного класса.\n",
    "\n",
    "Подсказка: возможно, придется воспользоваться, что  $p(y_i = 1 | x_i) + p(y_i = 0 | x_i) = 1$"
   ]
  },
  {
   "cell_type": "markdown",
   "metadata": {},
   "source": [
    "***Ваше решение здесь***\n",
    "\n",
    "\n",
    "Введем обозначения:\n",
    "$a(x_i) = a$, $A = p(y_i = 1 |x_i )$ , $f = E(L | x_i)$\n",
    "\n",
    "Тогда в новых терминаз задача сводиться к поиску минимума $f(a) = -Aloga - (1-A)log(1 - a)$:\n",
    "\n",
    "Вычисляем производную и приравниваем к $0$:\n",
    "\n",
    "$$f' = -\\frac{A}{a} - \\frac{1 - A}{1 - a}(-1) = \\frac{1 - A}{1 - a} -\\frac{A}{a} = 0 $$\n",
    "\n",
    "$$(1 - A)a = A(1 - a) $$\n",
    "\n",
    "$$a -Aa = a - Aa$$\n",
    "\n",
    "Нашли точку где производная $0$:\n",
    "\n",
    "$a = A = p(y_i = 1 |x_i )$\n",
    "\n",
    "Проверим что это точка минимума:\n",
    "\n",
    "$$f'' = \\left((1 -A)\\frac{1}{(1 - a)^2} + \\frac{A}{a^2}\\right)\\big|_{a = A} = \\frac{1-A}{(1-A)^2} + \\frac{A}{A^2} = \\frac{1}{1 -A} + \\frac{1}{A} = \\frac{A+1-A}{(1-A)A} = \\frac{1}{(1-A)A} > 0 $$\n",
    "\n",
    "Таким образом доказано:\n",
    "что значение $a(x_i)$, минимизирующее данное мат. ожидание, в точности равно $p(y_i = 1 |x_i)$, то есть равно вероятности положительного класса."
   ]
  },
  {
   "cell_type": "markdown",
   "metadata": {},
   "source": [
    "Задача 5.  Смысл регуляризации.\n",
    "\n",
    "Нужно ли в L1/L2 регуляризации использовать свободный член $w_0$ (который не умножается ни на какой признак)?\n",
    "\n",
    "Подсказка: подумайте, для чего мы вводим $w_0$"
   ]
  },
  {
   "cell_type": "markdown",
   "metadata": {},
   "source": [
    "***Ваше решение здесь***\n",
    "\n",
    "Так как $w_0$ можно считать весом при фиктивном признаке, значение которого всегда тождественно = 1. То нет смысла в том чтоб вводить его как дополнительный параметр в регуляризации, который ни на что не влияет. "
   ]
  },
  {
   "cell_type": "markdown",
   "metadata": {},
   "source": [
    "#  Реализация линейной модели (4 балла)"
   ]
  },
  {
   "cell_type": "markdown",
   "metadata": {},
   "source": [
    "## Зачем нужны батчи?\n"
   ]
  },
  {
   "cell_type": "markdown",
   "metadata": {},
   "source": [
    "Как Вы могли заметить из теоретического введения, что в случае SGD, что в случа mini-batch GD,  на каждой итерации обновление весов  происходит только по небольшой части данных (1 пример в случае SGD, batch примеров в случае mini-batch). То есть для каждой итерации нам *** не нужна вся выборка***. Мы можем просто итерироваться по выборке, беря батч нужного размера (далее 1 объект тоже будем называть батчом).\n",
    "\n",
    "Легко заметить, что в этом случае нам не нужно загружать все данные в оперативную память, достаточно просто считать батч с диска, обновить веса, считать диска другой батч и так далее. В целях упрощения домашней работы, прямо с диска  мы считывать не будем, будем работать с обычными numpy array. \n",
    "\n",
    "\n",
    "\n"
   ]
  },
  {
   "cell_type": "markdown",
   "metadata": {},
   "source": [
    "## Немножко про генераторы в Python\n",
    "\n"
   ]
  },
  {
   "cell_type": "markdown",
   "metadata": {},
   "source": [
    "Идея считывания данных кусками удачно ложится на так называемые ***генераторы*** из языка Python. В данной работе Вам предлагается не только разобраться с логистической регрессией, но  и познакомиться с таким важным элементом языка.  При желании Вы можете убрать весь код, связанный с генераторами, и реализовать логистическую регрессию и без них, ***штрафоваться это никак не будет***. Главное, чтобы сама модель была реализована правильно, и все пункты были выполнены. \n",
    "\n",
    "Подробнее можно почитать вот тут https://anandology.com/python-practice-book/iterators.html\n"
   ]
  },
  {
   "cell_type": "markdown",
   "metadata": {},
   "source": [
    "К генератору стоит относиться просто как к функции, которая порождает не один объект, а целую последовательность объектов. Новое значение из последовательности генерируется с помощью ключевого слова ***yield***. Ниже Вы можете насладиться  генератором чисел Фибоначчи."
   ]
  },
  {
   "cell_type": "code",
   "execution_count": 2,
   "metadata": {
    "jupyter": {
     "outputs_hidden": true
    }
   },
   "outputs": [],
   "source": [
    "def fib(max_iter=4):\n",
    "    a, b = 0, 1\n",
    "    iter_num = 0\n",
    "    while 1:\n",
    "        yield a\n",
    "        a, b = b, a + b\n",
    "        iter_num += 1\n",
    "        if iter_num == max_iter:\n",
    "            break"
   ]
  },
  {
   "cell_type": "markdown",
   "metadata": {},
   "source": [
    "Вот так можно сгенерировать последовательность Фибоначчи. \n",
    "\n",
    "Заметьте, что к генераторам можно применять некоторые стандартные функции из Python, например enumerate."
   ]
  },
  {
   "cell_type": "code",
   "execution_count": 3,
   "metadata": {},
   "outputs": [
    {
     "name": "stdout",
     "output_type": "stream",
     "text": [
      "Fib num: 0 fib values: 0\n",
      "Fib num: 1 fib values: 1\n",
      "Fib num: 2 fib values: 1\n",
      "Fib num: 3 fib values: 2\n"
     ]
    }
   ],
   "source": [
    "new_generator = fib()\n",
    "for j, fib_val in enumerate(new_generator):\n",
    "    print (\"Fib num: \" + str(j) + \" fib values: \" + str(fib_val))"
   ]
  },
  {
   "cell_type": "markdown",
   "metadata": {},
   "source": [
    "Пересоздавая объект, можно сколько угодно раз генерировать заново последовательность. "
   ]
  },
  {
   "cell_type": "code",
   "execution_count": 127,
   "metadata": {},
   "outputs": [
    {
     "name": "stdout",
     "output_type": "stream",
     "text": [
      "Fib num: 0 fib values: 0\n",
      "Fib num: 1 fib values: 1\n",
      "Fib num: 2 fib values: 1\n",
      "Fib num: 3 fib values: 2\n",
      "Fib num: 0 fib values: 0\n",
      "Fib num: 1 fib values: 1\n",
      "Fib num: 2 fib values: 1\n",
      "Fib num: 3 fib values: 2\n",
      "Fib num: 0 fib values: 0\n",
      "Fib num: 1 fib values: 1\n",
      "Fib num: 2 fib values: 1\n",
      "Fib num: 3 fib values: 2\n"
     ]
    }
   ],
   "source": [
    "for i in range(0, 3):\n",
    "    new_generator = fib()\n",
    "    for j, fib_val in enumerate(new_generator):\n",
    "        print (\"Fib num: \" + str(j) + \" fib values: \" + str(fib_val))"
   ]
  },
  {
   "cell_type": "markdown",
   "metadata": {},
   "source": [
    "А вот так уже нельзя."
   ]
  },
  {
   "cell_type": "code",
   "execution_count": 128,
   "metadata": {},
   "outputs": [
    {
     "name": "stdout",
     "output_type": "stream",
     "text": [
      "Fib num: 0 fib values: 0\n",
      "Fib num: 1 fib values: 1\n",
      "Fib num: 2 fib values: 1\n",
      "Fib num: 3 fib values: 2\n"
     ]
    }
   ],
   "source": [
    "new_generator = fib()\n",
    "for i in range(0, 3):\n",
    "    for j, fib_val in enumerate(new_generator):\n",
    "        print (\"Fib num: \" + str(j) + \" fib values: \" + str(fib_val))"
   ]
  },
  {
   "cell_type": "markdown",
   "metadata": {},
   "source": [
    "Концепция крайне удобная для обучения  моделей $-$ у Вас есть некий источник данных, который Вам выдает их кусками, и Вам совершенно все равно откуда он их берет. Под ним может скрывать как массив в оперативной памяти, как файл на жестком диске, так и SQL база данных. Вы сами данные никуда не сохраняете, оперативную память экономите."
   ]
  },
  {
   "cell_type": "markdown",
   "metadata": {},
   "source": [
    "Если Вам понравилась идея с генераторами, то Вы можете реализовать свой, используя прототип batch_generator. В нем Вам нужно выдавать батчи признаков и ответов для каждой новой итерации спуска. Если не понравилась идея, то можете реализовывать SGD или mini-batch GD без генераторов."
   ]
  },
  {
   "cell_type": "code",
   "execution_count": 2,
   "metadata": {},
   "outputs": [],
   "source": [
    "def batch_generator(X, y, shuffle=True, batch_size=1):\n",
    "    \"\"\"\n",
    "    Гератор новых батчей для обучения\n",
    "    X          - матрица объекты-признаки\n",
    "    y_batch    - вектор ответов\n",
    "    shuffle    - нужно ли случайно перемешивать выборку\n",
    "    batch_size - размер батча ( 1 это SGD, > 1 mini-batch GD)\n",
    "    Генерирует подвыборку для итерации спуска (X_batch, y_batch)\n",
    "    \"\"\"\n",
    "\n",
    "    if shuffle:\n",
    "        idx = np.arange(X.shape[0])\n",
    "        np.random.shuffle(idx)\n",
    "\n",
    "    for start in range(0, X.shape[0], batch_size):\n",
    "        end = min(start + batch_size, X.shape[0])\n",
    "\n",
    "        if shuffle:\n",
    "            batch = idx[start:end]\n",
    "        else:\n",
    "            batch = slice(start, end)\n",
    "\n",
    "        X_batch = X[batch, :]\n",
    "        y_batch = y[batch]\n",
    "        yield (X_batch, y_batch)"
   ]
  },
  {
   "cell_type": "code",
   "execution_count": 17,
   "metadata": {
    "jupyter": {
     "outputs_hidden": true
    }
   },
   "outputs": [],
   "source": [
    "#%%pycodestyle\n",
    "\n",
    "def sigmoid(x):\n",
    "    \"\"\"\n",
    "    Вычисляем значение сигмоида.\n",
    "    X - выход линейной модели\n",
    "    \"\"\"\n",
    "    \n",
    "    ## Your code Here\n",
    "    return 1/(1 + np.exp(-x))\n",
    "\n",
    "from sklearn.base import BaseEstimator, ClassifierMixin\n",
    "\n",
    "class MySGDClassifier(BaseEstimator, ClassifierMixin):\n",
    "    \n",
    "    def __init__(self, batch_generator, C=1, alpha=0.01, max_epoch=10, model_type='lin_reg'):\n",
    "        \"\"\"\n",
    "        batch_generator -- функция генератор, которой будем создавать батчи\n",
    "        C - коэф. регуляризации\n",
    "        alpha - скорость спуска\n",
    "        max_epoch - максимальное количество эпох\n",
    "        model_type - тим модели, lin_reg или log_reg\n",
    "        \"\"\"\n",
    "        \n",
    "        self.C = C\n",
    "        self.alpha = alpha\n",
    "        self.max_epoch = max_epoch\n",
    "        self.batch_generator = batch_generator\n",
    "        self.errors_log = {'iter' : [], 'loss' : []}  \n",
    "        self.model_type = model_type\n",
    "        \n",
    "    def calc_loss(self, X_batch, y_batch):\n",
    "        \"\"\"\n",
    "        Считаем функцию потерь по батчу \n",
    "        X_batch - матрица объекты-признаки по батчу\n",
    "        y_batch - вектор ответов по батчу\n",
    "        Не забудте тип модели (линейная или логистическая регрессия)!\n",
    "        \"\"\"\n",
    "        if self.model_type == 'lin_reg':\n",
    "            loss = 1/X_batch.shape[0] * np.sum((y_batch - np.dot(X_batch, self.weights))**2) \\\n",
    "            + 1/self.C * np.sum(self.weights[1:]**2)\n",
    "        if self.model_type == 'log_reg':\n",
    "            a = sigmoid(np.dot(X_batch, self.weights))\n",
    "            loss = -1/X_batch.shape[0] * (np.sum(y_batch * np.log(a) + (1 - y)*(np.log(1-a)) ))\\\n",
    "            + 1/self.C * np.sum(self.weights[1:]**2)\n",
    "        \n",
    "        return loss\n",
    "    \n",
    "    def calc_loss_grad(self, X_batch, y_batch):\n",
    "        \"\"\"\n",
    "        Считаем  градиент функции потерь по батчу (то что Вы вывели в задании 1)\n",
    "        X_batch - матрица объекты-признаки по батчу\n",
    "        y_batch - вектор ответов по батчу\n",
    "        Не забудте тип модели (линейная или логистическая регрессия)!\n",
    "        \"\"\"\n",
    "        tmp = 2/self.C * np.insert(self.weights[1:], 0, 0) ##\n",
    "        if self.model_type == 'lin_reg':\n",
    "            loss_grad = tmp - 2/X_batch.shape[0]*np.dot\\\n",
    "            (X_batch.T,(y_batch - np.dot(X_batch, self.weights)))\n",
    "        if self.model_type == 'log_reg':\n",
    "            loss_grad = tmp - 1/X_batch.shape[0]*np.dot\\\n",
    "            (X_batch.T,(y_batch - sigmoid(np.dot(X_batch, self.weights))))\n",
    "        return loss_grad\n",
    "\n",
    "    def update_weights(self, new_grad):\n",
    "        \"\"\"\n",
    "        Обновляем вектор весов\n",
    "        new_grad - градиент по батчу\n",
    "        \"\"\"\n",
    "        self.weights = self.weights - self.alpha * new_grad\n",
    "        \n",
    "  \n",
    "    def fit(self,X, y,batch_size = 1):\n",
    "        '''\n",
    "        Обучение модели\n",
    "        X - матрица объекты-признаки\n",
    "        y - вектор ответов\n",
    "        '''\n",
    "        \n",
    "        E = np.ones((X.shape[0], 1))\n",
    "        X = np.column_stack((E,X))\n",
    "        # Нужно инициализровать случайно веса\n",
    "        self.weights = np.array([random.random() for i in range(X.shape[1])])\n",
    "        for n in range(0, self.max_epoch):\n",
    "            new_epoch_generator = self.batch_generator(X,y,batch_size = batch_size)\n",
    "            for batch_num, new_batch in enumerate(new_epoch_generator):\n",
    "                X_batch = new_batch[0]\n",
    "                y_batch = new_batch[1]\n",
    "                batch_grad = self.calc_loss_grad(X_batch, y_batch)\n",
    "                batch_loss = self.calc_loss(X_batch, y_batch)\n",
    "                self.update_weights(batch_grad)\n",
    "                # Подумайте в каком месте стоит посчитать ошибку для отладки модели\n",
    "                # До градиентного шага или после\n",
    "                \n",
    "                self.errors_log['iter'].append(batch_num)\n",
    "                self.errors_log['loss'].append(batch_loss)\n",
    "                \n",
    "        return self\n",
    "        \n",
    "    def predict(self, X):\n",
    "        '''\n",
    "        Предсказание класса\n",
    "        X - матрица объекты-признаки\n",
    "        Не забудте тип модели (линейная или логистическая регрессия)!\n",
    "        '''\n",
    "        if self.model_type == 'lin_reg':\n",
    "            y_hat = (np.dot(X, self.weights)) > 0\n",
    "        if self.model_type == 'log_reg':\n",
    "            y_hat = (sigmoid(np.dot(X, self.weights))) > 0\n",
    "        # Желательно здесь использовать матричные операции между X и весами, например, numpy.dot \n",
    "        return y_hat"
   ]
  },
  {
   "cell_type": "markdown",
   "metadata": {},
   "source": [
    "Запустите обе регрессии на синтетических данных. \n",
    "\n",
    "\n",
    "Выведите полученные веса и нарисуйте разделяющую границу между классами (используйте только первых два веса для первых двух признаков X[:,0], X[:,1] для отображения в 2d пространство ).  "
   ]
  },
  {
   "cell_type": "code",
   "execution_count": 7,
   "metadata": {
    "jupyter": {
     "outputs_hidden": true
    }
   },
   "outputs": [],
   "source": [
    "def plot_decision_boundary(w, X):\n",
    "    y_min, y_max = X[:, 1].min(), X[:, 1].max()\n",
    "\n",
    "    y = np.array([y_min, y_max])\n",
    "    x = -(w[2]*y + w[0])/w[1]\n",
    "\n",
    "    plt.plot(x, y)    "
   ]
  },
  {
   "cell_type": "code",
   "execution_count": 8,
   "metadata": {},
   "outputs": [
    {
     "name": "stdout",
     "output_type": "stream",
     "text": [
      "self.weights= [0.62670648 0.72754361 0.0242727 ]\n"
     ]
    },
    {
     "data": {
      "text/plain": [
       "<matplotlib.collections.PathCollection at 0x2997c2e3eb0>"
      ]
     },
     "execution_count": 8,
     "metadata": {},
     "output_type": "execute_result"
    },
    {
     "data": {
      "image/png": "[encoded data removed]",
      "text/plain": [
       "<Figure size 864x360 with 1 Axes>"
      ]
     },
     "metadata": {},
     "output_type": "display_data"
    }
   ],
   "source": [
    "np.random.seed(0)\n",
    "\n",
    "C1 = np.array([[0., -0.8], [1.5, 0.8]])\n",
    "C2 = np.array([[1., -0.7], [2., 0.7]])\n",
    "\n",
    "gauss1 = np.dot(np.random.randn(200, 2) + np.array([5, 3]), C1)\n",
    "gauss2 = np.dot(np.random.randn(200, 2) + np.array([1.5, 0]), C2)\n",
    "\n",
    "X = np.vstack([gauss1, gauss2])\n",
    "y = np.r_[np.ones(200), np.zeros(200)]\n",
    "my_batch_gen = batch_generator(X,y)\n",
    "\n",
    "\n",
    "clf = MySGDClassifier(batch_generator, C=1, alpha=0.01, max_epoch=10, model_type='log_reg')\n",
    "clf.fit(X, y)\n",
    "plot_decision_boundary(clf.weights, X)\n",
    "\n",
    "plt.scatter(X[:,0], X[:,1], c=y)"
   ]
  },
  {
   "cell_type": "markdown",
   "metadata": {},
   "source": [
    "Далее будем анализировать Ваш алгоритм. \n",
    "Для этих заданий используйте датасет ниже."
   ]
  },
  {
   "cell_type": "code",
   "execution_count": 9,
   "metadata": {
    "jupyter": {
     "outputs_hidden": true
    }
   },
   "outputs": [],
   "source": [
    "from sklearn.datasets import make_classification"
   ]
  },
  {
   "cell_type": "code",
   "execution_count": 10,
   "metadata": {
    "jupyter": {
     "outputs_hidden": true
    }
   },
   "outputs": [],
   "source": [
    "X, y = make_classification(n_samples=100000, n_features=10, \n",
    "                           n_informative=4, n_redundant=0, \n",
    "                           random_state=123, class_sep=1.0,\n",
    "                           n_clusters_per_class=1)"
   ]
  },
  {
   "cell_type": "markdown",
   "metadata": {},
   "source": [
    "Покажите сходимости обеих регрессией на этом датасете: изобразите график  функции потерь, усредненной по $N$ шагам градиентого спуска, для разных `alpha` (размеров шага). Разные `alpha` расположите на одном графике. \n",
    "\n",
    "$N$ можно брать 10, 50, 100 и т.д. "
   ]
  },
  {
   "cell_type": "markdown",
   "metadata": {},
   "source": [
    "Что Вы можете сказать про сходимость метода при различных `alpha`? Какое значение стоит выбирать для лучшей сходимости?"
   ]
  },
  {
   "cell_type": "markdown",
   "metadata": {},
   "source": [
    "Изобразите график среднего значения весов для обеих регрессий в зависимости от коеф. регуляризации С из `np.logspace(3, -3, 10)` "
   ]
  },
  {
   "cell_type": "code",
   "execution_count": 16,
   "metadata": {},
   "outputs": [
    {
     "name": "stdout",
     "output_type": "stream",
     "text": [
      "self.weights= [0.84823399 0.57085925 0.88524425 0.24733364 0.31345921 0.9257132\n",
      " 0.95381116 0.24605141 0.30604517 0.49782256 0.59985829]\n",
      "self.weights= [0.44607519 0.39416527 0.79321541 0.32323842 0.46782689 0.77470152\n",
      " 0.44946257 0.63173621 0.53500519 0.58388169 0.6426336 ]\n",
      "self.weights= [0.316709   0.3977376  0.70106414 0.87139163 0.54934533 0.78475072\n",
      " 0.38071363 0.08130516 0.37300211 0.51703626 0.76382289]\n",
      "self.weights= [0.41917994 0.76481223 0.15798639 0.17602591 0.15808377 0.82117802\n",
      " 0.21254678 0.69695252 0.2671929  0.07694926 0.01217893]\n",
      "self.weights= [0.67953699 0.50238002 0.8075442  0.12037752 0.09168459 0.0572141\n",
      " 0.14007662 0.4882672  0.6747585  0.73996751 0.20478944]\n",
      "self.weights= [0.14283737 0.56312393 0.2858745  0.54360192 0.00148035 0.80166931\n",
      " 0.51982455 0.44498604 0.07485379 0.66348701 0.90664515]\n",
      "self.weights= [0.21591565 0.07816198 0.43820256 0.14967447 0.09088342 0.26843726\n",
      " 0.62270281 0.88001502 0.27939085 0.69021335 0.70273285]\n",
      "self.weights= [0.66716456 0.38997888 0.60736584 0.09211229 0.54226384 0.89372121\n",
      " 0.51104827 0.44166709 0.37951028 0.14839722 0.68917328]\n",
      "self.weights= [0.58551184 0.64303084 0.51878541 0.2829367  0.15969549 0.43902188\n",
      " 0.79678759 0.41090419 0.28719577 0.59423899 0.69017871]\n"
     ]
    },
    {
     "name": "stderr",
     "output_type": "stream",
     "text": [
      "C:\\Users\\vda20\\AppData\\Local\\Temp/ipykernel_12004/1374493858.py:41: RuntimeWarning: overflow encountered in double_scalars\n",
      "  + 1/self.C * np.sum(self.weights[1:]**2)\n",
      "C:\\Users\\vda20\\AppData\\Local\\Temp/ipykernel_12004/1374493858.py:40: RuntimeWarning: overflow encountered in square\n",
      "  loss = 1/X_batch.shape[0] * np.sum((y_batch - np.dot(X_batch, self.weights))**2) \\\n",
      "C:\\Users\\vda20\\AppData\\Local\\Temp/ipykernel_12004/1374493858.py:41: RuntimeWarning: overflow encountered in square\n",
      "  + 1/self.C * np.sum(self.weights[1:]**2)\n",
      "C:\\Users\\vda20\\AppData\\Local\\Temp/ipykernel_12004/1374493858.py:56: RuntimeWarning: overflow encountered in multiply\n",
      "  tmp = 2/self.C * np.insert(self.weights[1:], 0, 0) ##\n",
      "C:\\Users\\vda20\\AppData\\Local\\Temp/ipykernel_12004/1374493858.py:70: RuntimeWarning: invalid value encountered in subtract\n",
      "  self.weights = self.weights - self.alpha * new_grad\n"
     ]
    },
    {
     "name": "stdout",
     "output_type": "stream",
     "text": [
      "self.weights= [0.31946143 0.42222534 0.0180744  0.43248078 0.7622588  0.90481392\n",
      " 0.56011968 0.97489461 0.77262922 0.70212739 0.67662713]\n",
      "self.weights= [0.90110252 0.55286487 0.52212343 0.20913667 0.78483044 0.15762535\n",
      " 0.24500254 0.66833286 0.04108188 0.07586545 0.10086519]\n",
      "self.weights= [0.86527055 0.03311224 0.63748301 0.4091017  0.97321461 0.02697824\n",
      " 0.64585622 0.6672622  0.06510606 0.49405594 0.91364036]\n",
      "self.weights= [0.28867526 0.32625125 0.30631512 0.11531976 0.09811225 0.33180037\n",
      " 0.64062955 0.97300562 0.96949097 0.32368015 0.71667239]\n",
      "self.weights= [0.62823812 0.36237247 0.85683744 0.85075884 0.27913196 0.61085457\n",
      " 0.66953711 0.04971899 0.94267621 0.3150581  0.25228395]\n",
      "self.weights= [1.51448274e-01 4.68414787e-01 2.39523588e-01 3.81235181e-01\n",
      " 1.10441963e-01 6.70617075e-01 3.49233731e-04 7.74359901e-01\n",
      " 7.28807378e-01 6.32427467e-01 9.63064913e-01]\n",
      "self.weights= [0.57351907 0.34338151 0.7381367  0.57104119 0.97388246 0.63552788\n",
      " 0.17571875 0.81018463 0.51838003 0.07226169 0.56429988]\n",
      "self.weights= [0.08304245 0.3117203  0.52007158 0.57611008 0.63724875 0.37079153\n",
      " 0.87200316 0.14649996 0.68149211 0.49119679 0.82449314]\n",
      "self.weights= [0.6254851  0.3079715  0.71225333 0.58555379 0.09770496 0.09311932\n",
      " 0.62969229 0.62601395 0.59921765 0.06440946 0.23091143]\n",
      "self.weights= [0.58490041 0.19483895 0.41775081 0.5858319  0.05444125 0.84757179\n",
      " 0.95899255 0.50746044 0.67793557 0.68990093 0.84222036]\n"
     ]
    },
    {
     "name": "stderr",
     "output_type": "stream",
     "text": [
      "C:\\Users\\vda20\\AppData\\Local\\Temp/ipykernel_12004/1374493858.py:10: RuntimeWarning: overflow encountered in exp\n",
      "  return 1/(1 + np.exp(-x))\n",
      "C:\\Users\\vda20\\AppData\\Local\\Temp/ipykernel_12004/1374493858.py:44: RuntimeWarning: divide by zero encountered in log\n",
      "  loss = -1/X_batch.shape[0] * (np.sum(y_batch * np.log(a) + (1 - y)*(np.log(1-a)) ))\\\n",
      "C:\\Users\\vda20\\AppData\\Local\\Temp/ipykernel_12004/1374493858.py:44: RuntimeWarning: invalid value encountered in multiply\n",
      "  loss = -1/X_batch.shape[0] * (np.sum(y_batch * np.log(a) + (1 - y)*(np.log(1-a)) ))\\\n",
      "C:\\Users\\vda20\\AppData\\Local\\Temp/ipykernel_12004/1374493858.py:45: RuntimeWarning: overflow encountered in double_scalars\n",
      "  + 1/self.C * np.sum(self.weights[1:]**2)\n",
      "C:\\CONDA\\lib\\site-packages\\numpy\\core\\fromnumeric.py:87: RuntimeWarning: overflow encountered in reduce\n",
      "  return ufunc.reduce(obj, axis, dtype, out, **passkwargs)\n",
      "C:\\Users\\vda20\\AppData\\Local\\Temp/ipykernel_12004/1374493858.py:45: RuntimeWarning: overflow encountered in square\n",
      "  + 1/self.C * np.sum(self.weights[1:]**2)\n",
      "C:\\Users\\vda20\\AppData\\Local\\Temp/ipykernel_12004/1374493858.py:56: RuntimeWarning: overflow encountered in multiply\n",
      "  tmp = 2/self.C * np.insert(self.weights[1:], 0, 0) ##\n"
     ]
    },
    {
     "name": "stdout",
     "output_type": "stream",
     "text": [
      "self.weights= [0.21483702 0.97071244 0.64226032 0.78254444 0.68202969 0.23245922\n",
      " 0.19786889 0.38921778 0.77299541 0.63184035 0.68226177]\n"
     ]
    },
    {
     "data": {
      "image/png": "[encoded data removed]",
      "text/plain": [
       "<Figure size 1800x360 with 2 Axes>"
      ]
     },
     "metadata": {},
     "output_type": "display_data"
    }
   ],
   "source": [
    "## Your Code Here\n",
    "fig = plt.figure(figsize=(25, 5))\n",
    "for i, model in enumerate(['lin_reg', 'log_reg']):\n",
    "    mas = []\n",
    "    ax = fig.add_subplot(1, 2, i + 1, ylabel='weights_mean', xlabel= 'C')\n",
    "    ax.set_title('Среднее значение весов от С')\n",
    "    for C in np.logspace(3, -3, 10):\n",
    "        clf = MySGDClassifier(batch_generator, C=C, alpha=0.01, max_epoch=1, model_type=model)\n",
    "        clf.fit(X,y)\n",
    "        mas.append(np.mean(clf.weights))\n",
    "    plt.plot(np.logspace(3, -3, 10),mas, label=f'$model$={model}')\n",
    "    ax.legend()\n",
    "#Прокрутите ниже до графика"
   ]
  },
  {
   "cell_type": "markdown",
   "metadata": {},
   "source": [
    "Довольны ли Вы, насколько сильно уменьшились Ваши веса? "
   ]
  },
  {
   "cell_type": "markdown",
   "metadata": {},
   "source": [
    "# Боевое применение (4  балла)\n",
    "\n",
    "**Защита данной части возможна только при преодолении в проекте бейзлайна Handmade baseline.**"
   ]
  },
  {
   "cell_type": "markdown",
   "metadata": {},
   "source": [
    "Давайте применим модель на итоговом проекте! Датасет сделаем точно таким же образом, как было показано в project_overview.ipynb\n",
    "\n",
    "Применим обе регрессии, подберем для них параметры и сравним качество. Может быть Вы еще одновременно с решением домашней работы подрастете на лидерборде!"
   ]
  },
  {
   "cell_type": "code",
   "execution_count": 4,
   "metadata": {},
   "outputs": [
    {
     "name": "stdout",
     "output_type": "stream",
     "text": [
      "28026\n"
     ]
    }
   ],
   "source": [
    "doc_to_title = {}\n",
    "with open('docs_titles.tsv') as f:\n",
    "    for num_line, line in enumerate(f):\n",
    "        if num_line == 0:\n",
    "            continue\n",
    "        data = line.strip().split('\\t', 1)\n",
    "        doc_id = int(data[0])\n",
    "        if len(data) == 1:\n",
    "            title = ''\n",
    "        else:\n",
    "            title = data[1]\n",
    "        doc_to_title[doc_id] = title\n",
    "print (len(doc_to_title))\n"
   ]
  },
  {
   "cell_type": "code",
   "execution_count": 5,
   "metadata": {
    "collapsed": true,
    "jupyter": {
     "outputs_hidden": true
    }
   },
   "outputs": [],
   "source": [
    "import pandas as pd\n",
    "train_data = pd.read_csv('train_groups.csv')\n",
    "traingroups_titledata = {}\n",
    "for i in range(len(train_data)):\n",
    "    new_doc = train_data.iloc[i]\n",
    "    doc_group = new_doc['group_id']\n",
    "    doc_id = new_doc['doc_id']\n",
    "    target = new_doc['target']\n",
    "    title = doc_to_title[doc_id]\n",
    "    if doc_group not in traingroups_titledata:\n",
    "        traingroups_titledata[doc_group] = []\n",
    "    traingroups_titledata[doc_group].append((doc_id, title, target))"
   ]
  },
  {
   "cell_type": "code",
   "execution_count": 6,
   "metadata": {},
   "outputs": [
    {
     "name": "stdout",
     "output_type": "stream",
     "text": [
      "(11690, 15) (11690,) (11690,)\n"
     ]
    }
   ],
   "source": [
    "import numpy as np\n",
    "y_train = []\n",
    "X_train = []\n",
    "groups_train = []\n",
    "for new_group in traingroups_titledata:\n",
    "    docs = traingroups_titledata[new_group]\n",
    "    for k, (doc_id, title, target_id) in enumerate(docs):\n",
    "        y_train.append(target_id)\n",
    "        groups_train.append(new_group)\n",
    "        all_dist = []\n",
    "        words = set(title.strip().split())\n",
    "        for j in range(0, len(docs)):\n",
    "            if k == j:\n",
    "                continue\n",
    "            doc_id_j, title_j, target_j = docs[j]\n",
    "            words_j = set(title_j.strip().split())\n",
    "            all_dist.append(len(words.intersection(words_j)))\n",
    "        X_train.append(sorted(all_dist, reverse=True)[0:15])\n",
    "X_train = np.array(X_train)\n",
    "y_train = np.array(y_train)\n",
    "groups_train = np.array(groups_train)\n",
    "print (X_train.shape, y_train.shape, groups_train.shape)"
   ]
  },
  {
   "cell_type": "markdown",
   "metadata": {},
   "source": [
    "Подберите размер батча для обучения. Линейная модель не должна учиться дольше нескольких минут. \n",
    "\n",
    "Не забывайте использовать скейлер!"
   ]
  },
  {
   "cell_type": "code",
   "execution_count": 10,
   "metadata": {
    "tags": []
   },
   "outputs": [],
   "source": [
    "from sklearn.metrics import f1_score\n",
    "from sklearn.linear_model import LinearRegression\n",
    "from sklearn.preprocessing import StandardScaler"
   ]
  },
  {
   "cell_type": "code",
   "execution_count": null,
   "metadata": {
    "collapsed": true,
    "jupyter": {
     "outputs_hidden": true
    }
   },
   "outputs": [],
   "source": []
  },
  {
   "cell_type": "code",
   "execution_count": null,
   "metadata": {
    "tags": []
   },
   "outputs": [],
   "source": []
  },
  {
   "cell_type": "markdown",
   "metadata": {},
   "source": [
    "Разбейте данные на обучение и валидацию. Подберите параметры C, alpha, max_epoch, model_type на валидации (Вы же помните, как правильно в этой задаче делать валидацию?)"
   ]
  },
  {
   "cell_type": "code",
   "execution_count": null,
   "metadata": {
    "collapsed": true,
    "jupyter": {
     "outputs_hidden": true
    }
   },
   "outputs": [],
   "source": []
  },
  {
   "cell_type": "markdown",
   "metadata": {},
   "source": [
    "Подберите порог линейной модели, по достижении которого, Вы будете относить объект к классу 1. Вспомните, какую метрику мы оптимизируем в соревновании.  Как тогда правильно подобрать порог?"
   ]
  },
  {
   "cell_type": "code",
   "execution_count": null,
   "metadata": {
    "collapsed": true,
    "jupyter": {
     "outputs_hidden": true
    }
   },
   "outputs": [],
   "source": []
  },
  {
   "cell_type": "code",
   "execution_count": null,
   "metadata": {
    "collapsed": true,
    "jupyter": {
     "outputs_hidden": true
    }
   },
   "outputs": [],
   "source": []
  },
  {
   "cell_type": "markdown",
   "metadata": {},
   "source": [
    "С лучшими параметрами на валидации сделайте предсказание на тестовом множестве, отправьте его на проверку на платформу kaggle. Убедитесь, что Вы смогли побить public score первого бейзлайна."
   ]
  },
  {
   "cell_type": "markdown",
   "metadata": {},
   "source": [
    "** При сдаче домашки Вам необходимо кроме ссылки на ноутбук показать Ваш ник на kaggle, под которым Вы залили решение, которое побило Handmade baseline. **"
   ]
  },
  {
   "cell_type": "code",
   "execution_count": null,
   "metadata": {
    "collapsed": true,
    "jupyter": {
     "outputs_hidden": true
    }
   },
   "outputs": [],
   "source": []
  },
  {
   "cell_type": "markdown",
   "metadata": {},
   "source": [
    "# Фидбек (бесценно)"
   ]
  },
  {
   "cell_type": "markdown",
   "metadata": {},
   "source": [
    "* Какие аспекты обучения линейных моделей Вам показались непонятными? Какое место стоит дополнительно объяснить?"
   ]
  },
  {
   "cell_type": "markdown",
   "metadata": {},
   "source": [
    "***Ваше ответ здесь***"
   ]
  },
  {
   "cell_type": "markdown",
   "metadata": {},
   "source": [
    "* Здесь Вы можете оставить отзыв о этой домашней работе или о всем курсе.   "
   ]
  },
  {
   "cell_type": "markdown",
   "metadata": {},
   "source": [
    "*** ВАШ ОТЗЫВ ЗДЕСЬ***"
   ]
  },
  {
   "cell_type": "code",
   "execution_count": null,
   "metadata": {
    "collapsed": true,
    "jupyter": {
     "outputs_hidden": true
    }
   },
   "outputs": [],
   "source": []
  },
  {
   "cell_type": "code",
   "execution_count": null,
   "metadata": {
    "collapsed": true,
    "jupyter": {
     "outputs_hidden": true
    }
   },
   "outputs": [],
   "source": []
  }
 ],
 "metadata": {
  "anaconda-cloud": {},
  "kernelspec": {
   "display_name": "Python 3 (ipykernel)",
   "language": "python",
   "name": "python3"
  },
  "language_info": {
   "codemirror_mode": {
    "name": "ipython",
    "version": 3
   },
   "file_extension": ".py",
   "mimetype": "text/x-python",
   "name": "python",
   "nbconvert_exporter": "python",
   "pygments_lexer": "ipython3",
   "version": "3.9.7"
  },
  "nav_menu": {},
  "toc": {
   "colors": {
    "hover_highlight": "#DAA520",
    "navigate_num": "#000000",
    "navigate_text": "#333333",
    "running_highlight": "#FF0000",
    "selected_highlight": "#FFD700",
    "sidebar_border": "#EEEEEE",
    "wrapper_background": "#FFFFFF"
   },
   "moveMenuLeft": true,
   "nav_menu": {
    "height": "402px",
    "width": "253px"
   },
   "navigate_menu": true,
   "number_sections": false,
   "sideBar": true,
   "threshold": 4,
   "toc_cell": false,
   "toc_section_display": "block",
   "toc_window_display": true,
   "widenNotebook": false
  }
 },
 "nbformat": 4,
 "nbformat_minor": 4
}
